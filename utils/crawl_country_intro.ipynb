{
 "cells": [
  {
   "cell_type": "markdown",
   "metadata": {},
   "source": [
    "# Crawl Country Introduction"
   ]
  },
  {
   "cell_type": "code",
   "execution_count": 187,
   "metadata": {},
   "outputs": [
    {
     "data": {
      "text/html": [
       "<style>\n",
       "    body{\n",
       " --vscode-font-family: \"ComicShannsMono Nerd Font\";\n",
       "    }\n",
       "</style>\n"
      ],
      "text/plain": [
       "<IPython.core.display.HTML object>"
      ]
     },
     "metadata": {},
     "output_type": "display_data"
    }
   ],
   "source": [
    "%%HTML\n",
    "<style>\n",
    "    body{\n",
    " --vscode-font-family: \"ComicShannsMono Nerd Font\";\n",
    "    }\n",
    "</style>"
   ]
  },
  {
   "cell_type": "markdown",
   "metadata": {},
   "source": [
    "## Import Libraries"
   ]
  },
  {
   "cell_type": "code",
   "execution_count": 188,
   "metadata": {},
   "outputs": [],
   "source": [
    "import os\n",
    "import json\n",
    "import requests\n",
    "from tqdm import tqdm\n",
    "from bs4 import BeautifulSoup\n",
    "from selenium import webdriver\n",
    "from selenium.webdriver.common.by import By"
   ]
  },
  {
   "cell_type": "markdown",
   "metadata": {},
   "source": [
    "## Set the parameters"
   ]
  },
  {
   "cell_type": "code",
   "execution_count": 189,
   "metadata": {},
   "outputs": [],
   "source": [
    "world_country_datapath = \"../data/countries.json\"\n",
    "country_intro_datapath = \"../data/country_intro.json\""
   ]
  },
  {
   "cell_type": "markdown",
   "metadata": {},
   "source": [
    "## Read all the countries from json file"
   ]
  },
  {
   "cell_type": "code",
   "execution_count": 190,
   "metadata": {},
   "outputs": [
    {
     "name": "stdout",
     "output_type": "stream",
     "text": [
      "{\n",
      "    \"Country Name\": \"Afghanistan\",\n",
      "    \"ISO2\": \"AF\",\n",
      "    \"ISO3\": \"AFG\",\n",
      "    \"TLD\": \"af\",\n",
      "    \"FIPS\": \"AF\",\n",
      "    \"ISO Numeric\": \"004\",\n",
      "    \"GeoNameID\": \"1149361\",\n",
      "    \"E164\": \"93\",\n",
      "    \"Phone Code\": \"93\",\n",
      "    \"Continent Name\": \"Asia\",\n",
      "    \"Continent Code\": \"as\",\n",
      "    \"Capital\": \"Kabul\",\n",
      "    \"Time Zone in Capital\": \"Asia/Kabul\",\n",
      "    \"Currency Name\": \"Afghani\",\n",
      "    \"Languages\": \"Afghan Persian or Dari (official) 50%, Pashto (official) 35%, Turkic languages (primarily Uzbek and Turkmen) 11%, 30 minor languages (primarily Balochi and Pashai) 4%, much bilingualism, but Dari functions as the lingua franca\",\n",
      "    \"Area KM2\": \"647500\"\n",
      "}\n"
     ]
    }
   ],
   "source": [
    "country_data_list = json.loads(open(world_country_datapath).read())\n",
    "print(json.dumps(country_data_list[0], indent=4))"
   ]
  },
  {
   "cell_type": "markdown",
   "metadata": {},
   "source": [
    "## Crawl the introduction of each country"
   ]
  },
  {
   "cell_type": "code",
   "execution_count": 191,
   "metadata": {},
   "outputs": [],
   "source": [
    "# open the chrome browser (english)\n",
    "options = webdriver.ChromeOptions()\n",
    "# options.add_argument('--headless')\n",
    "options.add_argument('--lang=en-GB')\n",
    "browser = webdriver.Chrome(options=options)"
   ]
  },
  {
   "cell_type": "code",
   "execution_count": 192,
   "metadata": {},
   "outputs": [],
   "source": [
    "class CountryIntroduction():\n",
    "    def __init__(self, country_name, browser, text=None, img=None):\n",
    "        self.country_name = country_name\n",
    "        self._browser = browser\n",
    "        self._text = text\n",
    "        self._img = img\n",
    "        self.intro = self._get_introduction()\n",
    "        self.image_path = self._get_country_flag_image_url()\n",
    "    \n",
    "    def _get_introduction(self) -> str:\n",
    "        if self._text is not None:\n",
    "            return self._text\n",
    "        search_url = f\"https://www.google.com/search?q={self.country_name}+Country\"\n",
    "        # search for the country introduction\n",
    "        self._browser.get(search_url)\n",
    "        h3_elements = self._browser.find_elements(By.XPATH, \"//h3\")\n",
    "        h3_target = None\n",
    "        for h3 in h3_elements:\n",
    "            if h3.text != \"Description\":\n",
    "                continue\n",
    "            h3_target = h3\n",
    "        assert h3_target is not None, \"No introduction found\"\n",
    "        country_intro_text = h3_target.find_element(By.XPATH, \"../span\").text\n",
    "        return country_intro_text\n",
    "    \n",
    "    def _get_country_flag_image_url(self) -> str:\n",
    "        if self._img is not None:\n",
    "            return self._img\n",
    "        name = self.country_name.replace(\" \", \"-\")\n",
    "        url = f\"https://www.countryflags.com/flag-of-{name}/\"\n",
    "        browser.get(url)\n",
    "        image = browser.find_element(By.XPATH, \"//img[@class='img-fluid wp-post-image']\").get_attribute(\"src\")\n",
    "        return image\n",
    "    \n",
    "    def check_valid(self):\n",
    "        def check_image_url(image_url):\n",
    "            try:\n",
    "                response = requests.get(image_url)\n",
    "                return response.status_code == 200\n",
    "            except requests.exceptions.RequestException:\n",
    "                return False\n",
    "\n",
    "        if len(self.intro) < 10 or check_image_url(self.image_path) is False:\n",
    "            return False\n",
    "        return True"
   ]
  },
  {
   "cell_type": "code",
   "execution_count": 226,
   "metadata": {},
   "outputs": [],
   "source": [
    "check_dict = {\n",
    "    \"American Samoa\": {\"img\": \"https://www.countryflags.com/wp-content/uploads/samoa-flag-png-large.png\"},\n",
    "    \"Anguilla\": {\"img\": \"https://upload.wikimedia.org/wikipedia/commons/thumb/b/b4/Flag_of_Anguilla.svg/800px-Flag_of_Anguilla.svg.png\"},\n",
    "    \"Antarctica\": {\"img\": \"https://upload.wikimedia.org/wikipedia/commons/thumb/f/f2/Antarctica_%28orthographic_projection%29.svg/640px-Antarctica_%28orthographic_projection%29.svg.png\"},\n",
    "    \"Aruba\": {\"img\": \"https://upload.wikimedia.org/wikipedia/commons/thumb/f/f6/Flag_of_Aruba.svg/1200px-Flag_of_Aruba.svg.png\"},\n",
    "    \"Bermuda\": {\"img\": \"https://upload.wikimedia.org/wikipedia/commons/thumb/b/bf/Flag_of_Bermuda.svg/800px-Flag_of_Bermuda.svg.png\"},\n",
    "    \"British Virgin Islands\": {\"img\": \"https://upload.wikimedia.org/wikipedia/commons/4/42/Flag_of_the_British_Virgin_Islands.svg\"},\n",
    "    \"Cayman Islands\": {\"img\": \"https://upload.wikimedia.org/wikipedia/commons/0/0f/Flag_of_the_Cayman_Islands.svg\"},\n",
    "    \"Christmas Island\": {\"img\": \"https://upload.wikimedia.org/wikipedia/commons/thumb/9/99/Map_of_Christmas_Island_1976.jpg/390px-Map_of_Christmas_Island_1976.jpg\"},\n",
    "    \"Cocos Islands\": {\"img\": \"https://upload.wikimedia.org/wikipedia/commons/7/74/Flag_of_the_Cocos_%28Keeling%29_Islands.svg\"},\n",
    "    \"Cook Islands\": {\"img\": \"https://upload.wikimedia.org/wikipedia/commons/thumb/3/35/Flag_of_the_Cook_Islands.svg/1200px-Flag_of_the_Cook_Islands.svg.png\"},\n",
    "    \"Democratic Republic of the Congo\": {\"img\": \"https://upload.wikimedia.org/wikipedia/commons/thumb/6/6f/Flag_of_the_Democratic_Republic_of_the_Congo.svg/1200px-Flag_of_the_Democratic_Republic_of_the_Congo.svg.png\"},\n",
    "    \"Falkland Islands\": {\"img\": \"https://upload.wikimedia.org/wikipedia/commons/thumb/8/83/Flag_of_the_Falkland_Islands.svg/1200px-Flag_of_the_Falkland_Islands.svg.png\"},\n",
    "    \"Faroe Islands\": {\"img\": \"https://upload.wikimedia.org/wikipedia/commons/thumb/3/3c/Flag_of_the_Faroe_Islands.svg/1200px-Flag_of_the_Faroe_Islands.svg.png\"},\n",
    "    \"French Polynesia\": {\"img\": \"https://upload.wikimedia.org/wikipedia/commons/thumb/d/db/Flag_of_French_Polynesia.svg/1200px-Flag_of_French_Polynesia.svg.png\"},\n",
    "    \"Gibraltar\": {\"img\": \"https://upload.wikimedia.org/wikipedia/commons/thumb/0/02/Flag_of_Gibraltar.svg/1200px-Flag_of_Gibraltar.svg.png\"},\n",
    "    \"Guernsey\": {\"img\": \"https://upload.wikimedia.org/wikipedia/commons/f/fa/Flag_of_Guernsey.svg\"},\n",
    "    \"Isle of Man\": {\"img\": \"https://upload.wikimedia.org/wikipedia/commons/thumb/5/5d/Flag_of_the_Isle_of_Mann.svg/1200px-Flag_of_the_Isle_of_Mann.svg.png\"},\n",
    "    \"Ivory Coast\": {\"img\": \"https://upload.wikimedia.org/wikipedia/commons/thumb/f/fe/Flag_of_C%C3%B4te_d%27Ivoire.svg/1200px-Flag_of_C%C3%B4te_d%27Ivoire.svg.png\"},\n",
    "    \"Jersey\": {\"img\": \"https://upload.wikimedia.org/wikipedia/commons/thumb/1/1c/Flag_of_Jersey.svg/800px-Flag_of_Jersey.svg.png\"},\n",
    "    \"Macau\": {\"img\": \"https://upload.wikimedia.org/wikipedia/commons/thumb/6/63/Flag_of_Macau.svg/800px-Flag_of_Macau.svg.png\"},\n",
    "    \"Mayotte\": {\"img\": \"https://upload.wikimedia.org/wikipedia/commons/thumb/b/bf/Coat_of_Arms_of_Mayotte.svg/640px-Coat_of_Arms_of_Mayotte.svg.png\"},\n",
    "    \"Montserrat\": {\"img\": \"https://upload.wikimedia.org/wikipedia/commons/thumb/d/d0/Flag_of_Montserrat.svg/1200px-Flag_of_Montserrat.svg.png\"},\n",
    "    \"Netherlands Antilles\": {\"img\": \"https://upload.wikimedia.org/wikipedia/commons/thumb/e/eb/Flag_of_the_Netherlands_Antilles_%281959%E2%80%931986%29.svg/1200px-Flag_of_the_Netherlands_Antilles_%281959%E2%80%931986%29.svg.png\"},\n",
    "    \"North Korea\": {\"img\": \"https://upload.wikimedia.org/wikipedia/commons/thumb/5/51/Flag_of_North_Korea.svg/1200px-Flag_of_North_Korea.svg.png\"},\n",
    "    \"Northern Mariana Islands\": {\"img\": \"https://upload.wikimedia.org/wikipedia/commons/thumb/e/e0/Flag_of_the_Northern_Mariana_Islands.svg/1200px-Flag_of_the_Northern_Mariana_Islands.svg.png\"},\n",
    "    \"Republic of the Congo\": {\"img\": \"https://upload.wikimedia.org/wikipedia/commons/9/92/Flag_of_the_Republic_of_the_Congo.svg\"},\n",
    "    \"Reunion\": {\"img\": \"https://upload.wikimedia.org/wikipedia/commons/thumb/c/c3/Reunion_21.12S_55.51E.jpg/1200px-Reunion_21.12S_55.51E.jpg\"},\n",
    "    \"Saint Barthelemy\": {\"img\": \"https://upload.wikimedia.org/wikipedia/commons/thumb/b/b4/Flag_of_Saint_Barth%C3%A9lemy_%28local%29.svg/1200px-Flag_of_Saint_Barth%C3%A9lemy_%28local%29.svg.png\"},\n",
    "    \"Saint Helena\": {\n",
    "        \"text\": \"Saint Helena is one of the three constituent parts of Saint Helena, Ascension and Tristan da Cunha, a remote British overseas territory.\",\n",
    "        \"img\": \"https://upload.wikimedia.org/wikipedia/commons/thumb/0/00/Flag_of_Saint_Helena.svg/1024px-Flag_of_Saint_Helena.svg.png\"\n",
    "    },\n",
    "    \"Saint Martin\": {\"img\": \"https://upload.wikimedia.org/wikipedia/commons/thumb/d/dd/Flag_of_Saint-Martin_%28fictional%29.svg/800px-Flag_of_Saint-Martin_%28fictional%29.svg.png\"},\n",
    "    # \"Saint Pierre and Miquelon\": {\"img\": \"https://upload.wikimedia.org/wikipedia/commons/thumb/7/74/Flag_of_Saint-Pierre_and_Miquelon.svg/2560px-Flag_of_Saint-Pierre_and_Miquelon.svg.png\"},\n",
    "    \"Saint Pierre and Miquelon\": {\"img\": \"https://upload.wikimedia.org/wikipedia/commons/c/c3/Flag_of_France.svg\"},\n",
    "    \"Sint Maarten\": {\"img\": \"https://upload.wikimedia.org/wikipedia/commons/thumb/d/d3/Flag_of_Sint_Maarten.svg/1200px-Flag_of_Sint_Maarten.svg.png\"},\n",
    "    \"South Korea\": {\"img\": \"https://upload.wikimedia.org/wikipedia/commons/thumb/0/09/Flag_of_South_Korea.svg/800px-Flag_of_South_Korea.svg.png\"},\n",
    "    \"Svalbard and Jan Mayen\": {\"img\": \"https://encrypted-tbn0.gstatic.com/images?q=tbn:ANd9GcSc63-X9NAK4ZXDl6Nqrc6o4fDoqi9qOlZomMuEBAk_6g&s\"},\n",
    "    \"Turks and Caicos Islands\": {\"img\": \"https://upload.wikimedia.org/wikipedia/commons/thumb/a/a0/Flag_of_the_Turks_and_Caicos_Islands.svg/1200px-Flag_of_the_Turks_and_Caicos_Islands.svg.png\"},\n",
    "    \"U.S. Virgin Islands\": {\"img\": \"https://upload.wikimedia.org/wikipedia/commons/thumb/f/f3/United_States_Virgin_Islands_on_the_globe_%28Americas_centered%29.svg/250px-United_States_Virgin_Islands_on_the_globe_%28Americas_centered%29.svg.png\"},\n",
    "    \"Vanuatu\": {\"img\": \"https://upload.wikimedia.org/wikipedia/commons/thumb/b/bc/Flag_of_Vanuatu.svg/1200px-Flag_of_Vanuatu.svg.png\"},\n",
    "    \"Wallis and Futuna\": {\"img\": \"https://upload.wikimedia.org/wikipedia/commons/thumb/d/d2/Flag_of_Wallis_and_Futuna.svg/1200px-Flag_of_Wallis_and_Futuna.svg.png\"},\n",
    "    \"Western Sahara\": {\"img\": \"https://upload.wikimedia.org/wikipedia/commons/thumb/2/26/Flag_of_the_Sahrawi_Arab_Democratic_Republic.svg/800px-Flag_of_the_Sahrawi_Arab_Democratic_Republic.svg.png\"},\n",
    "    \"Republic of the Congo\": {\n",
    "        \"text\": \"The Republic of the Congo, also known as Congo-Brazzaville, West Congo, Congo Republic, ROC, or simply either Congo or the Congo, is a country located on the western coast of Central Africa to the west of the Congo River. It is bordered to the west by Gabon, to the northwest by Cameroon, to the northeast by the Central African Republic, to the southeast by the Democratic Republic of the Congo, to the south by the Angolan exclave of Cabinda, and to the southwest by the Atlantic Ocean.\",\n",
    "        \"img\": \"https://upload.wikimedia.org/wikipedia/commons/thumb/9/92/Flag_of_the_Republic_of_the_Congo.svg/125px-Flag_of_the_Republic_of_the_Congo.svg.png\"\n",
    "    }\n",
    "}"
   ]
  },
  {
   "cell_type": "code",
   "execution_count": 194,
   "metadata": {},
   "outputs": [],
   "source": [
    "black_list = [\n",
    "    \"British Indian Ocean Territory\",\n",
    "    \"Pitcairn\",\n",
    "    \"Tokelau\",\n",
    "]"
   ]
  },
  {
   "cell_type": "code",
   "execution_count": 195,
   "metadata": {},
   "outputs": [],
   "source": [
    "country_intro_dict = {}"
   ]
  },
  {
   "cell_type": "code",
   "execution_count": 228,
   "metadata": {},
   "outputs": [
    {
     "name": "stderr",
     "output_type": "stream",
     "text": [
      "100%|██████████| 240/240 [00:08<00:00, 27.38it/s]\n"
     ]
    }
   ],
   "source": [
    "for data in tqdm(country_data_list):\n",
    "    country_name = data['Country Name']\n",
    "    continent_name = data['Continent Name']\n",
    "    if country_name in black_list or country_name in country_intro_dict:\n",
    "        continue\n",
    "    text, img = None, None\n",
    "    if country_name in check_dict:\n",
    "        if \"text\" in check_dict[country_name]:\n",
    "            text = check_dict[country_name][\"text\"]\n",
    "        if \"img\" in check_dict[country_name]:\n",
    "            img = check_dict[country_name][\"img\"]\n",
    "    country_intro = CountryIntroduction(country_name, browser, text=text, img=img)\n",
    "    if country_intro.check_valid() == False:\n",
    "        print(f\"Error in {country_name}\")\n",
    "        break\n",
    "    country_intro_dict[country_name] = {\n",
    "        \"intro_text\": country_intro.intro,\n",
    "        \"flag_image\": country_intro.image_path\n",
    "    }"
   ]
  },
  {
   "cell_type": "markdown",
   "metadata": {},
   "source": [
    "## Check and Save"
   ]
  },
  {
   "cell_type": "code",
   "execution_count": 229,
   "metadata": {},
   "outputs": [],
   "source": [
    "# save the country attraction data\n",
    "with open(country_intro_datapath, \"w\") as f:\n",
    "    f.write(json.dumps(country_intro_dict, indent=4))"
   ]
  }
 ],
 "metadata": {
  "kernelspec": {
   "display_name": "Python 3",
   "language": "python",
   "name": "python3"
  },
  "language_info": {
   "codemirror_mode": {
    "name": "ipython",
    "version": 3
   },
   "file_extension": ".py",
   "mimetype": "text/x-python",
   "name": "python",
   "nbconvert_exporter": "python",
   "pygments_lexer": "ipython3",
   "version": "3.9.12"
  }
 },
 "nbformat": 4,
 "nbformat_minor": 2
}
