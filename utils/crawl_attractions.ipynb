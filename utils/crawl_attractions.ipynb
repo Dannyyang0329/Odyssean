{
 "cells": [
  {
   "cell_type": "markdown",
   "metadata": {},
   "source": [
    "# Crawl Attractions"
   ]
  },
  {
   "cell_type": "code",
   "execution_count": 191,
   "metadata": {},
   "outputs": [
    {
     "data": {
      "text/html": [
       "<style>\n",
       "    body{\n",
       " --vscode-font-family: \"ComicShannsMono Nerd Font\";\n",
       "    }\n",
       "</style>\n"
      ],
      "text/plain": [
       "<IPython.core.display.HTML object>"
      ]
     },
     "metadata": {},
     "output_type": "display_data"
    }
   ],
   "source": [
    "%%HTML\n",
    "<style>\n",
    "    body{\n",
    " --vscode-font-family: \"ComicShannsMono Nerd Font\";\n",
    "    }\n",
    "</style>"
   ]
  },
  {
   "cell_type": "markdown",
   "metadata": {},
   "source": [
    "## Import libraries"
   ]
  },
  {
   "cell_type": "code",
   "execution_count": 192,
   "metadata": {},
   "outputs": [],
   "source": [
    "import os\n",
    "import json\n",
    "from tqdm import tqdm\n",
    "from bs4 import BeautifulSoup\n",
    "from selenium import webdriver\n",
    "from selenium.webdriver.common.by import By"
   ]
  },
  {
   "cell_type": "markdown",
   "metadata": {},
   "source": [
    "## Set the parameters"
   ]
  },
  {
   "cell_type": "code",
   "execution_count": 193,
   "metadata": {},
   "outputs": [],
   "source": [
    "world_country_datapath = \"data/countries.json\"\n",
    "attraction_datapath = \"data/attractions.json\"\n",
    "country_continent_mapping_datapath = \"data/country_continent_mapping.json\""
   ]
  },
  {
   "cell_type": "markdown",
   "metadata": {},
   "source": [
    "## Read all the countries from json file"
   ]
  },
  {
   "cell_type": "code",
   "execution_count": 194,
   "metadata": {},
   "outputs": [
    {
     "name": "stdout",
     "output_type": "stream",
     "text": [
      "{\n",
      "    \"Country Name\": \"Afghanistan\",\n",
      "    \"ISO2\": \"AF\",\n",
      "    \"ISO3\": \"AFG\",\n",
      "    \"TLD\": \"af\",\n",
      "    \"FIPS\": \"AF\",\n",
      "    \"ISO Numeric\": \"004\",\n",
      "    \"GeoNameID\": \"1149361\",\n",
      "    \"E164\": \"93\",\n",
      "    \"Phone Code\": \"93\",\n",
      "    \"Continent Name\": \"Asia\",\n",
      "    \"Continent Code\": \"as\",\n",
      "    \"Capital\": \"Kabul\",\n",
      "    \"Time Zone in Capital\": \"Asia/Kabul\",\n",
      "    \"Currency Name\": \"Afghani\",\n",
      "    \"Languages\": \"Afghan Persian or Dari (official) 50%, Pashto (official) 35%, Turkic languages (primarily Uzbek and Turkmen) 11%, 30 minor languages (primarily Balochi and Pashai) 4%, much bilingualism, but Dari functions as the lingua franca\",\n",
      "    \"Area KM2\": \"647500\"\n",
      "}\n"
     ]
    }
   ],
   "source": [
    "country_data_list = json.loads(open(world_country_datapath).read())\n",
    "print(json.dumps(country_data_list[0], indent=4))"
   ]
  },
  {
   "cell_type": "markdown",
   "metadata": {},
   "source": [
    "## Crawl the attractions of each country"
   ]
  },
  {
   "cell_type": "code",
   "execution_count": 195,
   "metadata": {},
   "outputs": [],
   "source": [
    "# open the chrome browser (english)\n",
    "options = webdriver.ChromeOptions()\n",
    "# options.add_argument('--headless')\n",
    "options.add_argument('--lang=en-GB')\n",
    "browser = webdriver.Chrome(options=options)"
   ]
  },
  {
   "cell_type": "code",
   "execution_count": 196,
   "metadata": {},
   "outputs": [],
   "source": [
    "class CountryAttraction():\n",
    "    def __init__(self, country_name, browser):\n",
    "        self.country_name = country_name\n",
    "        self._browser = browser\n",
    "        self.attractions = self._get_attraction_info()\n",
    "    \n",
    "    def _get_attraction_info(self) -> list[dict]:\n",
    "        attraction_list = []\n",
    "        search_url = f\"https://www.google.com/search?q={self.country_name}+attractions\"\n",
    "        # search for the country's attractions\n",
    "        self._browser.get(search_url)\n",
    "        # click the \"More attractions\" button\n",
    "        button = browser.find_element(By.XPATH, \"//span[contains(text(), 'More things to do')]\")\n",
    "        button.click()\n",
    "        # find  the grid view that \"role\" == \"presentation\"\n",
    "        grid_view = browser.find_element(By.TAG_NAME, \"wp-grid-view\")\n",
    "        attraction_element_list = grid_view.find_elements(By.CSS_SELECTOR, \"div[role='presentation']\")\n",
    "        for attraction in attraction_element_list:\n",
    "            # get the image url\n",
    "            img_url_element = attraction.find_elements(By.TAG_NAME, \"img\")\n",
    "            img_url = img_url_element[0].get_attribute(\"src\") if len(img_url_element) != 0 else None\n",
    "            # get the attraction name\n",
    "            attraction_name_element = attraction.find_elements(By.TAG_NAME, \"span\")\n",
    "            attraction_name = attraction_name_element[0].text if len(attraction_name_element) != 0 else None\n",
    "            # get the star score\n",
    "            start_score_element = attraction.find_elements(By.CSS_SELECTOR, \"span[aria-hidden]\")\n",
    "            star_score = start_score_element[0].text if len(start_score_element) != 0 else None\n",
    "            if attraction_name and img_url and star_score:\n",
    "                attraction_list.append({\n",
    "                    \"name\": attraction_name,\n",
    "                    \"image_url\": img_url,\n",
    "                    \"score\": star_score\n",
    "                })\n",
    "        return attraction_list"
   ]
  },
  {
   "cell_type": "code",
   "execution_count": 209,
   "metadata": {},
   "outputs": [],
   "source": [
    "black_list = [\n",
    "    \"British Indian Ocean Territory\",\n",
    "    \"Pitcairn\",\n",
    "    \"Tokelau\"\n",
    "]"
   ]
  },
  {
   "cell_type": "code",
   "execution_count": 198,
   "metadata": {},
   "outputs": [],
   "source": [
    "continent_dict = {}\n",
    "country_attraction_dict = {}"
   ]
  },
  {
   "cell_type": "code",
   "execution_count": 211,
   "metadata": {},
   "outputs": [
    {
     "name": "stderr",
     "output_type": "stream",
     "text": [
      "100%|██████████| 240/240 [00:41<00:00,  5.84it/s] \n"
     ]
    }
   ],
   "source": [
    "def add_country_to_continent(country_name, continent_name, continent_dict):\n",
    "    if continent_name not in continent_dict:\n",
    "        continent_dict[continent_name] = []\n",
    "    continent_dict[continent_name].append(country_name)\n",
    "\n",
    "for data in tqdm(country_data_list):\n",
    "    country_name = data['Country Name']\n",
    "    continent_name = data['Continent Name']\n",
    "    if country_name in black_list or country_name in country_attraction_dict:\n",
    "        continue\n",
    "    add_country_to_continent(country_name, continent_name, continent_dict)\n",
    "    country_attraction = CountryAttraction(country_name, browser)\n",
    "    country_attraction_dict[country_name] = country_attraction.attractions"
   ]
  },
  {
   "cell_type": "markdown",
   "metadata": {},
   "source": [
    "## Check and Save"
   ]
  },
  {
   "cell_type": "code",
   "execution_count": 220,
   "metadata": {},
   "outputs": [],
   "source": [
    "cnt = 0\n",
    "threshold = 0\n",
    "for country_name, attraction_list in country_attraction_dict.items():\n",
    "    if len(attraction_list) < threshold:\n",
    "        cnt += 1\n",
    "        print(f\"{cnt:>3} : {country_name}\")"
   ]
  },
  {
   "cell_type": "code",
   "execution_count": 212,
   "metadata": {},
   "outputs": [],
   "source": [
    "# save the country attraction data\n",
    "with open(attraction_datapath, \"w\") as f:\n",
    "    f.write(json.dumps(country_attraction_dict, indent=4))\n",
    "\n",
    "# save the country continent mapping data\n",
    "with open(country_continent_mapping_datapath, \"w\") as f:\n",
    "    f.write(json.dumps(continent_dict, indent=4))"
   ]
  }
 ],
 "metadata": {
  "kernelspec": {
   "display_name": "Python 3",
   "language": "python",
   "name": "python3"
  },
  "language_info": {
   "codemirror_mode": {
    "name": "ipython",
    "version": 3
   },
   "file_extension": ".py",
   "mimetype": "text/x-python",
   "name": "python",
   "nbconvert_exporter": "python",
   "pygments_lexer": "ipython3",
   "version": "3.9.12"
  }
 },
 "nbformat": 4,
 "nbformat_minor": 2
}
